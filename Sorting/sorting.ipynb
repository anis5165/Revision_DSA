{
 "cells": [
  {
   "cell_type": "code",
   "execution_count": 26,
   "id": "5807108c",
   "metadata": {},
   "outputs": [],
   "source": [
    "# check sorted or not \n",
    "def is_shorted(arr):\n",
    "    sorted = True\n",
    "\n",
    "    for i in range(len(arr)-1):\n",
    "        if arr[i] > arr[i+1]:\n",
    "            sorted = False\n",
    "\n",
    "    return sorted\n"
   ]
  },
  {
   "cell_type": "code",
   "execution_count": 27,
   "id": "f079da90",
   "metadata": {},
   "outputs": [],
   "source": [
    "#Monkey Sort\n",
    "import time\n",
    "import random\n",
    "\n",
    "def monkey_sort(arr):\n",
    "    while not is_shorted(arr):\n",
    "        time.sleep(1)\n",
    "        random.shuffle(arr)\n",
    "        print(arr)\n",
    "    print(arr)"
   ]
  },
  {
   "cell_type": "code",
   "execution_count": 28,
   "id": "449913ba",
   "metadata": {},
   "outputs": [],
   "source": [
    "# monkey_sort([23,14,11,67,45,61])"
   ]
  },
  {
   "cell_type": "code",
   "execution_count": 34,
   "id": "37ad4935",
   "metadata": {},
   "outputs": [],
   "source": [
    "#bubble sort\n",
    "def bubble_sort(arr):\n",
    "    for i in range(len(arr)-1):\n",
    "        flag = 0\n",
    "        for j in range(len(arr)-1-i):\n",
    "            if arr[j] > arr[j+1]:\n",
    "                arr[j], arr[j+1] = arr[j+1], arr[j]\n",
    "                flag = 1\n",
    "        if flag == 0:\n",
    "            break\n",
    "    print(arr)\n"
   ]
  },
  {
   "cell_type": "code",
   "execution_count": 35,
   "id": "a34cd0e7",
   "metadata": {},
   "outputs": [
    {
     "name": "stdout",
     "output_type": "stream",
     "text": [
      "[11, 12, 23, 34, 56, 78, 100]\n"
     ]
    }
   ],
   "source": [
    "arr = [23,12,34,11,100,56,78]\n",
    "bubble_sort(arr)"
   ]
  },
  {
   "cell_type": "code",
   "execution_count": 58,
   "id": "2ac296e1",
   "metadata": {},
   "outputs": [],
   "source": [
    "#selection sort\n",
    "def selection_sort(arr):\n",
    "    for i in range(len(arr)-1):\n",
    "        min = i\n",
    "        for j in range(i+1,len(arr)):\n",
    "            if arr[min] > arr[j]:\n",
    "                min = j\n",
    "        arr[min],arr[i] = arr[i],arr[min]\n",
    "    print(arr)"
   ]
  },
  {
   "cell_type": "code",
   "execution_count": 59,
   "id": "93a1576d",
   "metadata": {},
   "outputs": [
    {
     "name": "stdout",
     "output_type": "stream",
     "text": [
      "[11, 12, 23, 34, 56, 78, 100]\n"
     ]
    }
   ],
   "source": [
    "arr = [23,12,34,11,100,56,78]\n",
    "selection_sort(arr)"
   ]
  },
  {
   "cell_type": "markdown",
   "id": "a824d08a",
   "metadata": {},
   "source": [
    "# Merge Sort"
   ]
  },
  {
   "cell_type": "code",
   "execution_count": 60,
   "id": "efe3d218",
   "metadata": {},
   "outputs": [],
   "source": [
    "def merge_sorted(arr1,arr2):\n",
    "    i = j = 0\n",
    "\n",
    "    merged = []\n",
    "    while i < len(arr1) and j < len(arr2):\n",
    "        if arr1[i] < arr2[j]:\n",
    "            merged.append(arr1[i])\n",
    "            i += 1\n",
    "        else:\n",
    "            merged.append(arr2[j])\n",
    "            j += 1\n",
    "\n",
    "    while i < len(arr1):\n",
    "        merged.append(arr1[i])\n",
    "        i += 1\n",
    "\n",
    "    while j < len(arr2):\n",
    "        merged.append(arr2[j])\n",
    "        j += 1\n",
    "\n",
    "    return merged\n",
    "\n"
   ]
  },
  {
   "cell_type": "code",
   "execution_count": 61,
   "id": "3112580a",
   "metadata": {},
   "outputs": [],
   "source": [
    "def merge_sort(arr):\n",
    "    if len(arr) == 1:\n",
    "        return arr\n",
    "    mid = len(arr)//2\n",
    "\n",
    "    left = arr[:mid]\n",
    "    right = arr[mid:]\n",
    "\n",
    "    left = merge_sort(left)\n",
    "    right = merge_sort(right)\n",
    "    \n",
    "    return merge_sorted(left,right)\n"
   ]
  },
  {
   "cell_type": "code",
   "execution_count": 62,
   "id": "87df9ecc",
   "metadata": {},
   "outputs": [
    {
     "data": {
      "text/plain": [
       "[11, 12, 23, 34, 56, 78, 100]"
      ]
     },
     "execution_count": 62,
     "metadata": {},
     "output_type": "execute_result"
    }
   ],
   "source": [
    "arr = [23,12,34,11,100,56,78]\n",
    "merge_sort(arr)"
   ]
  }
 ],
 "metadata": {
  "kernelspec": {
   "display_name": ".venv",
   "language": "python",
   "name": "python3"
  },
  "language_info": {
   "codemirror_mode": {
    "name": "ipython",
    "version": 3
   },
   "file_extension": ".py",
   "mimetype": "text/x-python",
   "name": "python",
   "nbconvert_exporter": "python",
   "pygments_lexer": "ipython3",
   "version": "3.12.5"
  }
 },
 "nbformat": 4,
 "nbformat_minor": 5
}
