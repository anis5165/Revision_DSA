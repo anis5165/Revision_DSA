{
 "cells": [
  {
   "cell_type": "code",
   "execution_count": 27,
   "id": "ccffff55",
   "metadata": {},
   "outputs": [],
   "source": [
    "class Node:\n",
    "\n",
    "    def __init__(self,data):\n",
    "        self.data = data\n",
    "        self.next = None"
   ]
  },
  {
   "cell_type": "code",
   "execution_count": 28,
   "id": "6b8c64c4",
   "metadata": {},
   "outputs": [],
   "source": [
    "class LinkedList:\n",
    "    \n",
    "    def __init__(self):\n",
    "        #Empty Linked List\n",
    "        self.head = None\n",
    "        #number of node in LL\n",
    "        self.n = 0\n",
    "\n",
    "    def __len__(self):\n",
    "        return self.n\n",
    "    \n",
    "    #Insert from head\n",
    "    def insert_head(self,value):\n",
    "        new_node = Node(value)\n",
    "        new_node.next = self.head\n",
    "        self.head = new_node\n",
    "        self.n = self.n + 1\n",
    "\n",
    "    # insert from tail \n",
    "    def insert_tail(self, value):\n",
    "        new_node = Node(value)\n",
    "        \n",
    "        if self.head == None:\n",
    "            self.head = new_node\n",
    "            self.n = self.n + 1\n",
    "            return\n",
    "        \n",
    "        curr = self.head\n",
    "        while curr.next != None:\n",
    "            curr = curr.next\n",
    "        curr.next = new_node\n",
    "        self.n = self.n + 1\n",
    "\n",
    "    #insert in middle\n",
    "    def insert_after(self,after,value):\n",
    "        new_node = Node(value)\n",
    "        curr = self.head\n",
    "        while curr != None:\n",
    "            if curr.data == after:\n",
    "                break\n",
    "            curr = curr.next\n",
    "        if curr != None:\n",
    "            new_node.next = curr.next\n",
    "            curr.next = new_node\n",
    "            self.n = self.n + 1\n",
    "        else:\n",
    "            return 'Item not found'\n",
    "\n",
    "\n",
    "    #delete head\n",
    "    def delete_head(self):\n",
    "        if self.head == None:\n",
    "            return \"Empty List\"\n",
    "        self.head = self.head.next\n",
    "        self.n = self.n -1\n",
    "\n",
    "\n",
    "    def change_sent(self):\n",
    "        temp = self.head\n",
    "\n",
    "        while temp != None:\n",
    "            if temp.data == '*' or temp.data == '/':\n",
    "                temp.data = ' '\n",
    "                if temp.next.data == '*' or temp.next.data == '/':\n",
    "                    temp.next.next.data = temp.next.next.data.capitalize()\n",
    "                    temp.next = temp.next.next\n",
    "            \n",
    "            temp = temp.next\n",
    "\n",
    "    def __str__(self):\n",
    "        curr = self.head\n",
    "        result = ''\n",
    "        while curr != None:\n",
    "            result = result + str(curr.data) + ' '\n",
    "            curr = curr.next\n",
    "        return result"
   ]
  },
  {
   "cell_type": "code",
   "execution_count": 29,
   "id": "df164a0b",
   "metadata": {},
   "outputs": [],
   "source": [
    "word_List = LinkedList()\n",
    "word_List.insert_tail('T')\n",
    "word_List.insert_tail('h')\n",
    "word_List.insert_tail('e')\n",
    "word_List.insert_tail('/')\n",
    "word_List.insert_tail('*')\n",
    "word_List.insert_tail('s')\n",
    "word_List.insert_tail('k')\n",
    "word_List.insert_tail('y')\n",
    "word_List.insert_tail('*')\n",
    "word_List.insert_tail('i')\n",
    "word_List.insert_tail('s')\n",
    "word_List.insert_tail('/')\n",
    "word_List.insert_tail('/')\n",
    "word_List.insert_tail('b')\n",
    "word_List.insert_tail('l')\n",
    "word_List.insert_tail('u')\n",
    "word_List.insert_tail('e')"
   ]
  },
  {
   "cell_type": "code",
   "execution_count": 33,
   "id": "ae02a244",
   "metadata": {},
   "outputs": [
    {
     "name": "stdout",
     "output_type": "stream",
     "text": [
      "T h e   S k y   i s   B l u e \n"
     ]
    }
   ],
   "source": [
    "print(word_List)"
   ]
  },
  {
   "cell_type": "code",
   "execution_count": 32,
   "id": "d21b7cdc",
   "metadata": {},
   "outputs": [],
   "source": [
    "word_List.change_sent()"
   ]
  }
 ],
 "metadata": {
  "kernelspec": {
   "display_name": ".venv",
   "language": "python",
   "name": "python3"
  },
  "language_info": {
   "codemirror_mode": {
    "name": "ipython",
    "version": 3
   },
   "file_extension": ".py",
   "mimetype": "text/x-python",
   "name": "python",
   "nbconvert_exporter": "python",
   "pygments_lexer": "ipython3",
   "version": "3.12.5"
  }
 },
 "nbformat": 4,
 "nbformat_minor": 5
}
