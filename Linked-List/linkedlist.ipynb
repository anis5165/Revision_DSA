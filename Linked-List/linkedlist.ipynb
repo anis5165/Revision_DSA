{
 "cells": [
  {
   "cell_type": "code",
   "execution_count": 546,
   "id": "2da9e651",
   "metadata": {},
   "outputs": [],
   "source": [
    "class Node:\n",
    "\n",
    "    def __init__(self,data):\n",
    "        self.data = data\n",
    "        self.next = None"
   ]
  },
  {
   "cell_type": "code",
   "execution_count": 547,
   "id": "4d06df78",
   "metadata": {},
   "outputs": [],
   "source": [
    "class LinkedList:\n",
    "    \n",
    "    def __init__(self):\n",
    "        #Empty Linked List\n",
    "        self.head = None\n",
    "        #number of node in LL\n",
    "        self.n = 0\n",
    "\n",
    "    def __len__(self):\n",
    "        return self.n\n",
    "    \n",
    "    #Insert from head\n",
    "    def insert_head(self,value):\n",
    "        new_node = Node(value)\n",
    "        new_node.next = self.head\n",
    "        self.head = new_node\n",
    "        self.n = self.n + 1\n",
    "\n",
    "    # insert from tail \n",
    "    def insert_tail(self, value):\n",
    "        new_node = Node(value)\n",
    "        \n",
    "        if self.head == None:\n",
    "            self.head = new_node\n",
    "            self.n = self.n + 1\n",
    "            return\n",
    "        \n",
    "        curr = self.head\n",
    "        while curr.next != None:\n",
    "            curr = curr.next\n",
    "        curr.next = new_node\n",
    "        self.n = self.n + 1\n",
    "\n",
    "    #insert in middle\n",
    "    def insert_after(self,after,value):\n",
    "        new_node = Node(value)\n",
    "        curr = self.head\n",
    "        while curr != None:\n",
    "            if curr.data == after:\n",
    "                break\n",
    "            curr = curr.next\n",
    "        if curr != None:\n",
    "            new_node.next = curr.next\n",
    "            curr.next = new_node\n",
    "            self.n = self.n + 1\n",
    "        else:\n",
    "            return 'Item not found'\n",
    "\n",
    "    #empty linked list\\\n",
    "    def clear(self):\n",
    "        self.head = None\n",
    "        self.n = 0\n",
    "\n",
    "    #delete head\n",
    "    def delete_head(self):\n",
    "        if self.head == None:\n",
    "            return \"Empty List\"\n",
    "        self.head = self.head.next\n",
    "        self.n = self.n -1\n",
    "\n",
    "    #delete tail\n",
    "    def delete_tail(self):\n",
    "        if self.head == None:\n",
    "            return 'Empty LL'\n",
    "        curr = self.head\n",
    "        if curr.next == None:\n",
    "            return self.delete_head()\n",
    "\n",
    "        while curr.next.next != None:\n",
    "            curr = curr.next\n",
    "        curr.next = None\n",
    "        self.n = self.n -1\n",
    "\n",
    "    #delete value\n",
    "    def remove(self,value):\n",
    "        if self.head == None:\n",
    "            return 'Empty LL'\n",
    "        if self.head.data == value:\n",
    "            return self.delete_head()\n",
    "        curr = self.head\n",
    "        while curr.next != None:\n",
    "            if curr.next.data == value:\n",
    "                break\n",
    "            curr = curr.next\n",
    "        if curr.next != None:\n",
    "            curr.next = curr.next.next\n",
    "            self.n = self.n -1\n",
    "        else:\n",
    "            return \"Not Found data\"\n",
    "        \n",
    "    #search\n",
    "    def search(self,value):\n",
    "        if self.head == None:\n",
    "            return \"Empty LL\"\n",
    "        curr = self.head\n",
    "        \n",
    "        for i in range(self.n):\n",
    "            if curr.data == value:\n",
    "                return i\n",
    "            curr = curr.next\n",
    "        if curr == None:\n",
    "            return 'Not Found'\n",
    "            \n",
    "    def __getitem__(self,index):\n",
    "        if self.head == None:\n",
    "            return \"Empty LL\"\n",
    "        curr = self.head\n",
    "        pos = 0\n",
    "\n",
    "        while curr != None:\n",
    "            if pos == index:\n",
    "                return curr.data\n",
    "            curr = curr.next\n",
    "            pos = pos + 1\n",
    "        \n",
    "        if curr == None:\n",
    "            return 'Not Found'\n",
    "\n",
    "    def __str__(self):\n",
    "        curr = self.head\n",
    "        result = ''\n",
    "        while curr != None:\n",
    "            result = result + str(curr.data) + '->'\n",
    "            curr = curr.next\n",
    "        return result[:-2]"
   ]
  },
  {
   "cell_type": "code",
   "execution_count": 548,
   "id": "726b6edb",
   "metadata": {},
   "outputs": [
    {
     "data": {
      "text/plain": [
       "<__main__.LinkedList at 0x2b9cb5b1bb0>"
      ]
     },
     "execution_count": 548,
     "metadata": {},
     "output_type": "execute_result"
    }
   ],
   "source": [
    "L = LinkedList()\n",
    "L"
   ]
  },
  {
   "cell_type": "code",
   "execution_count": 549,
   "id": "64cf5ade",
   "metadata": {},
   "outputs": [
    {
     "data": {
      "text/plain": [
       "0"
      ]
     },
     "execution_count": 549,
     "metadata": {},
     "output_type": "execute_result"
    }
   ],
   "source": [
    "len(L)\n",
    "# L.insert_tail(25)"
   ]
  },
  {
   "cell_type": "code",
   "execution_count": 550,
   "id": "8a727950",
   "metadata": {},
   "outputs": [],
   "source": [
    "#insert from head\n",
    "L.insert_head(1)\n",
    "L.insert_head(2)\n",
    "L.insert_head(3)\n",
    "L.insert_head(4)"
   ]
  },
  {
   "cell_type": "code",
   "execution_count": 551,
   "id": "5aa3cd36",
   "metadata": {},
   "outputs": [
    {
     "name": "stdout",
     "output_type": "stream",
     "text": [
      "4->3->2->1\n"
     ]
    }
   ],
   "source": [
    "print(L)"
   ]
  },
  {
   "cell_type": "code",
   "execution_count": 552,
   "id": "b0df0daf",
   "metadata": {},
   "outputs": [
    {
     "name": "stdout",
     "output_type": "stream",
     "text": [
      "4->3->2->1->256\n"
     ]
    }
   ],
   "source": [
    "# insert from tail \n",
    "L.insert_tail(256)\n",
    "print(L)"
   ]
  },
  {
   "cell_type": "code",
   "execution_count": 553,
   "id": "1da95e53",
   "metadata": {},
   "outputs": [
    {
     "data": {
      "text/plain": [
       "'Item not found'"
      ]
     },
     "execution_count": 553,
     "metadata": {},
     "output_type": "execute_result"
    }
   ],
   "source": [
    "#insert from middle\n",
    "L.insert_after(0,8880)\n",
    "# print(L)"
   ]
  },
  {
   "cell_type": "code",
   "execution_count": 557,
   "id": "226948f9",
   "metadata": {},
   "outputs": [
    {
     "name": "stdout",
     "output_type": "stream",
     "text": [
      "4->3->2->1->256\n"
     ]
    }
   ],
   "source": [
    "# L.clear()\n",
    "# L.delete_head()\n",
    "# L.delete_tail()\n",
    "print(L)\n"
   ]
  },
  {
   "cell_type": "code",
   "execution_count": 555,
   "id": "311bf0a2",
   "metadata": {},
   "outputs": [],
   "source": [
    "# L.remove(4)\n",
    "# print(L)\n"
   ]
  },
  {
   "cell_type": "code",
   "execution_count": 562,
   "id": "16aa40e1",
   "metadata": {},
   "outputs": [
    {
     "data": {
      "text/plain": [
       "'Not Found'"
      ]
     },
     "execution_count": 562,
     "metadata": {},
     "output_type": "execute_result"
    }
   ],
   "source": [
    "# L.search(3)\n",
    "L[4545]"
   ]
  }
 ],
 "metadata": {
  "kernelspec": {
   "display_name": ".venv",
   "language": "python",
   "name": "python3"
  },
  "language_info": {
   "codemirror_mode": {
    "name": "ipython",
    "version": 3
   },
   "file_extension": ".py",
   "mimetype": "text/x-python",
   "name": "python",
   "nbconvert_exporter": "python",
   "pygments_lexer": "ipython3",
   "version": "3.12.5"
  }
 },
 "nbformat": 4,
 "nbformat_minor": 5
}
