{
 "cells": [
  {
   "cell_type": "code",
   "execution_count": 93,
   "id": "b4b37375",
   "metadata": {},
   "outputs": [],
   "source": [
    "class Node:\n",
    "    def __init__(self, data):\n",
    "        self.data = data\n",
    "        self.next = None"
   ]
  },
  {
   "cell_type": "code",
   "execution_count": 94,
   "id": "c81473f4",
   "metadata": {},
   "outputs": [],
   "source": [
    "class Stack:\n",
    "\n",
    "    def __init__(self):\n",
    "        self.top = None\n",
    "\n",
    "    def isempty(self):\n",
    "        return self.top == None\n",
    "    \n",
    "    def push(self,value):\n",
    "        new_node = Node(value)\n",
    "        new_node.next = self.top\n",
    "        self.top = new_node\n",
    "\n",
    "    def peek(self):\n",
    "        if self.isempty():\n",
    "            return \"Empty Stack\"\n",
    "        else:\n",
    "            return self.top.data\n",
    "        \n",
    "    def pop(self):\n",
    "        if self.isempty():\n",
    "            return \"Empty Stack\"\n",
    "        else:\n",
    "            data = self.top.data\n",
    "            self.top = self.top.next\n",
    "            return data\n",
    "\n",
    "    def traverse(self):\n",
    "        temp = self.top\n",
    "        while temp != None:\n",
    "            print(temp.data)\n",
    "            temp = temp.next\n",
    "\n",
    "    def size(self):\n",
    "        temp = self.top\n",
    "        count = 0\n",
    "        while temp != None:\n",
    "            count += 1\n",
    "            temp = temp.next\n",
    "        return count\n",
    "    \n"
   ]
  },
  {
   "cell_type": "code",
   "execution_count": 110,
   "id": "638f4fbe",
   "metadata": {},
   "outputs": [],
   "source": [
    "def reverse_string(value):\n",
    "    res = ''\n",
    "    c = Stack()\n",
    "    for i in value:\n",
    "        c.push(i)\n",
    "    while not c.isempty():\n",
    "        res = res + c.pop()\n",
    "    return res"
   ]
  },
  {
   "cell_type": "code",
   "execution_count": 96,
   "id": "4c632f42",
   "metadata": {},
   "outputs": [],
   "source": [
    "s = Stack()"
   ]
  },
  {
   "cell_type": "code",
   "execution_count": 97,
   "id": "ecc9a33e",
   "metadata": {},
   "outputs": [
    {
     "data": {
      "text/plain": [
       "True"
      ]
     },
     "execution_count": 97,
     "metadata": {},
     "output_type": "execute_result"
    }
   ],
   "source": [
    "s.isempty()"
   ]
  },
  {
   "cell_type": "code",
   "execution_count": 98,
   "id": "549c28cf",
   "metadata": {},
   "outputs": [],
   "source": [
    "s.push(1)\n",
    "s.push(2)\n",
    "s.push(3)\n",
    "s.push(4)\n",
    "s.push(5)"
   ]
  },
  {
   "cell_type": "code",
   "execution_count": 99,
   "id": "c89c0c77",
   "metadata": {},
   "outputs": [
    {
     "name": "stdout",
     "output_type": "stream",
     "text": [
      "5\n",
      "4\n",
      "3\n",
      "2\n",
      "1\n"
     ]
    }
   ],
   "source": [
    "s.traverse()"
   ]
  },
  {
   "cell_type": "code",
   "execution_count": 100,
   "id": "865bae35",
   "metadata": {},
   "outputs": [
    {
     "data": {
      "text/plain": [
       "5"
      ]
     },
     "execution_count": 100,
     "metadata": {},
     "output_type": "execute_result"
    }
   ],
   "source": [
    "s.peek()"
   ]
  },
  {
   "cell_type": "code",
   "execution_count": 101,
   "id": "b290955f",
   "metadata": {},
   "outputs": [],
   "source": [
    "# s.pop()"
   ]
  },
  {
   "cell_type": "code",
   "execution_count": 102,
   "id": "7a5c8392",
   "metadata": {},
   "outputs": [
    {
     "data": {
      "text/plain": [
       "5"
      ]
     },
     "execution_count": 102,
     "metadata": {},
     "output_type": "execute_result"
    }
   ],
   "source": [
    "s.size()"
   ]
  },
  {
   "cell_type": "code",
   "execution_count": 103,
   "id": "893c2cbd",
   "metadata": {},
   "outputs": [],
   "source": [
    "a = Stack()"
   ]
  },
  {
   "cell_type": "code",
   "execution_count": 111,
   "id": "f5c4dfd9",
   "metadata": {},
   "outputs": [
    {
     "name": "stdout",
     "output_type": "stream",
     "text": [
      "olleh\n"
     ]
    }
   ],
   "source": [
    "print(reverse_string(\"hello\"))"
   ]
  }
 ],
 "metadata": {
  "kernelspec": {
   "display_name": ".venv",
   "language": "python",
   "name": "python3"
  },
  "language_info": {
   "codemirror_mode": {
    "name": "ipython",
    "version": 3
   },
   "file_extension": ".py",
   "mimetype": "text/x-python",
   "name": "python",
   "nbconvert_exporter": "python",
   "pygments_lexer": "ipython3",
   "version": "3.12.5"
  }
 },
 "nbformat": 4,
 "nbformat_minor": 5
}
