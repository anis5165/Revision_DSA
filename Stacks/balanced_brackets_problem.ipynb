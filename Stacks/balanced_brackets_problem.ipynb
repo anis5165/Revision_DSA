{
 "cells": [
  {
   "cell_type": "code",
   "execution_count": 169,
   "id": "ccafefee",
   "metadata": {},
   "outputs": [],
   "source": [
    "class Node:\n",
    "    def __init__(self,value):\n",
    "        self.data = value\n",
    "        self.next = None"
   ]
  },
  {
   "cell_type": "code",
   "execution_count": 170,
   "id": "60f85336",
   "metadata": {},
   "outputs": [],
   "source": [
    "class Stack:\n",
    "    def __init__(self):\n",
    "        self.top = None\n",
    "\n",
    "    def push(self,value):\n",
    "        new_node = Node(value)\n",
    "        new_node.next = self.top\n",
    "        self.top = new_node\n",
    "\n",
    "    def is_empty(self):\n",
    "        return self.top == None\n",
    "\n",
    "    def pop(self):\n",
    "        if self.is_empty():\n",
    "            return \"Empty Stack\"\n",
    "        else:\n",
    "            data = self.top.data\n",
    "            self.top = self.top.next\n",
    "            return data\n",
    "        \n",
    "    \n"
   ]
  },
  {
   "cell_type": "code",
   "execution_count": 171,
   "id": "95d081eb",
   "metadata": {},
   "outputs": [],
   "source": [
    "def balanced_barckets(expression):\n",
    "    s = Stack()\n",
    "\n",
    "\n",
    "    for i in expression:\n",
    "       if i == '(' or i == '{' or i == '[':\n",
    "           s.push(i)\n",
    "\n",
    "    for i in expression:\n",
    "        if i == ')' or i == '}' or i == ']':\n",
    "            if s.is_empty(): return \"Empty Stack\"\n",
    "            if s.top.data == '(' and i == ')':\n",
    "                s.pop()\n",
    "            elif s.top.data == '{' and i == '}':\n",
    "                s.pop()\n",
    "            elif s.top.data == '[' and i == ']':\n",
    "                s.pop()\n",
    "            else:\n",
    "                return \"Error Expression\"\n",
    "\n",
    "    if not s.is_empty(): return \"Error Expression\"\n",
    "    else: return \"Every thing alright\"\n",
    "\n",
    "    "
   ]
  },
  {
   "cell_type": "code",
   "execution_count": 172,
   "id": "cf1c0f7c",
   "metadata": {},
   "outputs": [
    {
     "data": {
      "text/plain": [
       "'Every thing alright'"
      ]
     },
     "execution_count": 172,
     "metadata": {},
     "output_type": "execute_result"
    }
   ],
   "source": [
    "balanced_barckets(\"[{(a+b) (*) (c+d)}]\")"
   ]
  }
 ],
 "metadata": {
  "kernelspec": {
   "display_name": ".venv",
   "language": "python",
   "name": "python3"
  },
  "language_info": {
   "codemirror_mode": {
    "name": "ipython",
    "version": 3
   },
   "file_extension": ".py",
   "mimetype": "text/x-python",
   "name": "python",
   "nbconvert_exporter": "python",
   "pygments_lexer": "ipython3",
   "version": "3.12.5"
  }
 },
 "nbformat": 4,
 "nbformat_minor": 5
}
