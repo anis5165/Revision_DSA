{
 "cells": [
  {
   "cell_type": "code",
   "execution_count": 53,
   "id": "ec18cc7e",
   "metadata": {},
   "outputs": [],
   "source": [
    "class Stack:\n",
    "\n",
    "    def __init__(self,size):\n",
    "        self.size = size\n",
    "        self.__stack = [None] * self.size\n",
    "        self.top = -1\n",
    "\n",
    "    def push(self,value):\n",
    "        if self.top == self.size - 1:\n",
    "            return \"OverflowError\"\n",
    "        else:\n",
    "            self.top += 1\n",
    "            self.__stack[self.top] = value\n",
    "\n",
    "    def pop(self):\n",
    "        if self.top == -1:\n",
    "            return \"Empty Stack\"\n",
    "        else:\n",
    "            data = self.__stack[self.top]\n",
    "            self.top -= 1\n",
    "            return data\n",
    "\n",
    "    def traverse(self):\n",
    "        for i in range(self.top + 1):\n",
    "            print(self.__stack[i],end=' ')"
   ]
  },
  {
   "cell_type": "code",
   "execution_count": 54,
   "id": "360e6d41",
   "metadata": {},
   "outputs": [],
   "source": [
    "s = Stack(3)"
   ]
  },
  {
   "cell_type": "code",
   "execution_count": null,
   "id": "3973bdf9",
   "metadata": {},
   "outputs": [],
   "source": [
    "s.push(4)"
   ]
  },
  {
   "cell_type": "code",
   "execution_count": null,
   "id": "afe289bd",
   "metadata": {},
   "outputs": [],
   "source": [
    "s.push(5)"
   ]
  },
  {
   "cell_type": "code",
   "execution_count": null,
   "id": "5c806baa",
   "metadata": {},
   "outputs": [],
   "source": [
    "s.push(6)"
   ]
  },
  {
   "cell_type": "code",
   "execution_count": null,
   "id": "f0cd9526",
   "metadata": {},
   "outputs": [],
   "source": [
    "s.push(7)"
   ]
  },
  {
   "cell_type": "code",
   "execution_count": null,
   "id": "3fd51cb0",
   "metadata": {},
   "outputs": [
    {
     "data": {
      "text/plain": [
       "'Empty Stack'"
      ]
     },
     "execution_count": 47,
     "metadata": {},
     "output_type": "execute_result"
    }
   ],
   "source": [
    "s.pop()"
   ]
  },
  {
   "cell_type": "code",
   "execution_count": null,
   "id": "ffe97f09",
   "metadata": {},
   "outputs": [
    {
     "name": "stdout",
     "output_type": "stream",
     "text": [
      "7 "
     ]
    }
   ],
   "source": [
    "s.traverse()"
   ]
  }
 ],
 "metadata": {
  "kernelspec": {
   "display_name": ".venv",
   "language": "python",
   "name": "python3"
  },
  "language_info": {
   "codemirror_mode": {
    "name": "ipython",
    "version": 3
   },
   "file_extension": ".py",
   "mimetype": "text/x-python",
   "name": "python",
   "nbconvert_exporter": "python",
   "pygments_lexer": "ipython3",
   "version": "3.12.5"
  }
 },
 "nbformat": 4,
 "nbformat_minor": 5
}
