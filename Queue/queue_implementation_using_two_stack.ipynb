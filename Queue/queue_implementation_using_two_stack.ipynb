{
 "cells": [
  {
   "cell_type": "code",
   "execution_count": 401,
   "id": "94a5c614",
   "metadata": {},
   "outputs": [],
   "source": [
    "class Node:\n",
    "    def __init__(self,value):\n",
    "        self.data = value\n",
    "        self.next = None"
   ]
  },
  {
   "cell_type": "code",
   "execution_count": 402,
   "id": "f70e15ad",
   "metadata": {},
   "outputs": [],
   "source": [
    "class Stack:\n",
    "\n",
    "    def __init__(self):\n",
    "        self.top = None\n",
    "\n",
    "    def push(self,value):\n",
    "        new_node = Node(value)\n",
    "        new_node.next = self.top\n",
    "        self.top = new_node\n",
    "\n",
    "    def pop(self):\n",
    "        if self.is_empty():\n",
    "            return \"Empty Stack\"\n",
    "        data = self.top.data\n",
    "        self.top = self.top.next\n",
    "        return data\n",
    "        \n",
    "    def is_empty(self):\n",
    "        return self.top == None\n",
    "        \n",
    "    def traverse(self):\n",
    "        temp = self.top\n",
    "        while temp != None:\n",
    "            print(temp.data,end=\" \")\n",
    "            temp = temp.next\n",
    "\n"
   ]
  },
  {
   "cell_type": "code",
   "execution_count": 403,
   "id": "9719acfc",
   "metadata": {},
   "outputs": [],
   "source": [
    "class QueueUsingStack:\n",
    "    def __init__(self):\n",
    "        self.s = Stack()\n",
    "        self.q = Stack()\n",
    "\n",
    "    def enqueue(self,value):\n",
    "        self.s.push(value)\n",
    "    \n",
    "    def dequeue(self):\n",
    "        if self.q.is_empty():\n",
    "            while not self.s.is_empty():\n",
    "                self.q.push(self.s.pop())\n",
    "        if self.q.is_empty():\n",
    "            return \"Queue is Empty\"\n",
    "        return self.q.pop()\n",
    "    \n",
    "    def traverse(self):\n",
    "        element = []\n",
    "\n",
    "        # Collect q elements\n",
    "        temp = self.q.top\n",
    "        while temp != None:\n",
    "            element.append(temp.data)\n",
    "            temp = temp.next\n",
    "\n",
    "        # collect s elements in reverse order\n",
    "        stack_temp = []\n",
    "        temp =  self.s.top\n",
    "        while temp != None:\n",
    "            stack_temp.append(temp.data)\n",
    "            temp = temp.next\n",
    "\n",
    "        element.extend(stack_temp[::-1])\n",
    "\n",
    "        # The * (splat operator) unpacks the list, so instead of printing the list itself ([5, 6, 7]), it prints each item separated by spaces.\n",
    "        print(*element)\n",
    "        \n"
   ]
  },
  {
   "cell_type": "code",
   "execution_count": 404,
   "id": "95800387",
   "metadata": {},
   "outputs": [],
   "source": [
    "q = QueueUsingStack()"
   ]
  },
  {
   "cell_type": "code",
   "execution_count": 405,
   "id": "e5049296",
   "metadata": {},
   "outputs": [],
   "source": [
    "q.enqueue(25)\n",
    "q.enqueue(50)\n",
    "q.enqueue(75)"
   ]
  },
  {
   "cell_type": "code",
   "execution_count": 419,
   "id": "0f2757ed",
   "metadata": {},
   "outputs": [
    {
     "name": "stdout",
     "output_type": "stream",
     "text": [
      "\n"
     ]
    }
   ],
   "source": [
    "q.traverse()"
   ]
  },
  {
   "cell_type": "code",
   "execution_count": 418,
   "id": "4042411f",
   "metadata": {},
   "outputs": [
    {
     "data": {
      "text/plain": [
       "'Queue is Empty'"
      ]
     },
     "execution_count": 418,
     "metadata": {},
     "output_type": "execute_result"
    }
   ],
   "source": [
    "q.dequeue()"
   ]
  },
  {
   "cell_type": "code",
   "execution_count": 408,
   "id": "f501b1ef",
   "metadata": {},
   "outputs": [],
   "source": [
    "q.enqueue(100)\n",
    "q.enqueue(125)"
   ]
  }
 ],
 "metadata": {
  "kernelspec": {
   "display_name": ".venv",
   "language": "python",
   "name": "python3"
  },
  "language_info": {
   "codemirror_mode": {
    "name": "ipython",
    "version": 3
   },
   "file_extension": ".py",
   "mimetype": "text/x-python",
   "name": "python",
   "nbconvert_exporter": "python",
   "pygments_lexer": "ipython3",
   "version": "3.12.5"
  }
 },
 "nbformat": 4,
 "nbformat_minor": 5
}
