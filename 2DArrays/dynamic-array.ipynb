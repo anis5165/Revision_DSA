{
 "cells": [
  {
   "cell_type": "code",
   "execution_count": 254,
   "id": "c0a83991",
   "metadata": {},
   "outputs": [],
   "source": [
    "import ctypes  #ctypes is a foreign function library for python. It provides C compatible data types.\n",
    "\n",
    "class MeraList:\n",
    "\n",
    "    def __init__(self):\n",
    "        self.size = 1\n",
    "        self.n = 0\n",
    "\n",
    "        #create a c type array with size = self.size\n",
    "        self.A = self.__make_array(self.size)\n",
    "\n",
    "    def __len__(self):\n",
    "        return self.n\n",
    "    \n",
    "    def __str__(self):\n",
    "        result = ''\n",
    "        for i in range(self.n):\n",
    "            result = result + str(self.A[i]) + ','\n",
    "        return '[' + result[:-1] + ']'\n",
    "    \n",
    "    def __getitem__(self, index):\n",
    "        if 0 <= index <= self.n:\n",
    "            return self.A[index]\n",
    "        else:\n",
    "            return 'IndexError - Index out of Range'\n",
    "        \n",
    "    def pop(self):\n",
    "        if self.n == 0:\n",
    "            return \"Empty List\"\n",
    "        print(self.A[self.n - 1])\n",
    "        self.n = self.n - 1\n",
    "\n",
    "    def clear(self):\n",
    "        self.n = 0\n",
    "        self.size = 1\n",
    "    \n",
    "    def find(self,item):\n",
    "        for i in range(self.n):\n",
    "            if self.A[i] == item:\n",
    "                return i\n",
    "        return \"valueError - Not in List\"\n",
    "\n",
    "    def append(self,item):\n",
    "        if self.n == self.size:\n",
    "            #resize\n",
    "            self.__resize(self.size*2)\n",
    "        #append\n",
    "        self.A[self.n] = item\n",
    "        self.n = self.n + 1\n",
    "\n",
    "    def __delitem__(self,index):\n",
    "        if 0 <= index <= self.n:\n",
    "            for i in range(index,self.n-1):\n",
    "                self.A[i] = self.A[i+1]\n",
    "            self.n = self.n - 1\n",
    "\n",
    "    def remove(self,item):\n",
    "        pos = self.find(item)\n",
    "        if type(pos) == int:\n",
    "            self.__delitem__(pos)\n",
    "        else:\n",
    "            return pos\n",
    "\n",
    "    def insert(self,index,item):\n",
    "        if self.size == self.n:\n",
    "            self.__resize(self.size*2)\n",
    "        for i in range(self.n,index,-1):\n",
    "            self.A[i] = self.A[i-1]\n",
    "        self.A[index] = item\n",
    "        self.n = self.n + 1\n",
    "    \n",
    "    def __resize(self,new_capacity):\n",
    "        #create a new array with new capacity\n",
    "        B = self.__make_array(new_capacity)\n",
    "        self.size = new_capacity\n",
    "        #copy the content of A to B\n",
    "        for i in range(self.n):\n",
    "            B[i] = self.A[i]\n",
    "        #reassign A\n",
    "        self.A = B\n",
    "\n",
    "\n",
    "    def __make_array(self, capacity):\n",
    "        # creates a C types array(static, referential) with size capacity\n",
    "        return (capacity*ctypes.py_object)()\n"
   ]
  },
  {
   "cell_type": "code",
   "execution_count": 255,
   "id": "520eaddd",
   "metadata": {},
   "outputs": [
    {
     "data": {
      "text/plain": [
       "0"
      ]
     },
     "execution_count": 255,
     "metadata": {},
     "output_type": "execute_result"
    }
   ],
   "source": [
    "L = MeraList()\n",
    "len(L)"
   ]
  },
  {
   "cell_type": "code",
   "execution_count": 256,
   "id": "f10d0e69",
   "metadata": {},
   "outputs": [],
   "source": [
    "L.append('helllo')\n",
    "L.append(3.4)\n",
    "L.append(True)\n",
    "L.append(100)"
   ]
  },
  {
   "cell_type": "code",
   "execution_count": 257,
   "id": "814535f8",
   "metadata": {},
   "outputs": [
    {
     "data": {
      "text/plain": [
       "4"
      ]
     },
     "execution_count": 257,
     "metadata": {},
     "output_type": "execute_result"
    }
   ],
   "source": [
    "len(L)"
   ]
  },
  {
   "cell_type": "code",
   "execution_count": 258,
   "id": "30c22653",
   "metadata": {},
   "outputs": [
    {
     "name": "stdout",
     "output_type": "stream",
     "text": [
      "[helllo,3.4,True,100]\n"
     ]
    }
   ],
   "source": [
    "print(L)"
   ]
  },
  {
   "cell_type": "code",
   "execution_count": 259,
   "id": "4132ff50",
   "metadata": {},
   "outputs": [
    {
     "data": {
      "text/plain": [
       "'helllo'"
      ]
     },
     "execution_count": 259,
     "metadata": {},
     "output_type": "execute_result"
    }
   ],
   "source": [
    "L[0]"
   ]
  },
  {
   "cell_type": "code",
   "execution_count": 260,
   "id": "22821f55",
   "metadata": {},
   "outputs": [],
   "source": [
    "# L.pop()"
   ]
  },
  {
   "cell_type": "code",
   "execution_count": 261,
   "id": "fa57148e",
   "metadata": {},
   "outputs": [],
   "source": [
    "# L.clear()"
   ]
  },
  {
   "cell_type": "code",
   "execution_count": 262,
   "id": "8d4808b8",
   "metadata": {},
   "outputs": [
    {
     "data": {
      "text/plain": [
       "3"
      ]
     },
     "execution_count": 262,
     "metadata": {},
     "output_type": "execute_result"
    }
   ],
   "source": [
    "L.find(100)"
   ]
  },
  {
   "cell_type": "code",
   "execution_count": 263,
   "id": "b55647fe",
   "metadata": {},
   "outputs": [],
   "source": [
    "# L.insert(0,786)\n",
    "# L.insert(3,\"anish\")\n"
   ]
  },
  {
   "cell_type": "code",
   "execution_count": 264,
   "id": "26197f02",
   "metadata": {},
   "outputs": [],
   "source": [
    "del L[200]\n",
    "# print(L)"
   ]
  },
  {
   "cell_type": "code",
   "execution_count": 267,
   "id": "7e3731a7",
   "metadata": {},
   "outputs": [
    {
     "name": "stdout",
     "output_type": "stream",
     "text": [
      "[helllo,True,100]\n"
     ]
    }
   ],
   "source": [
    "L.remove(3.4)\n",
    "print(L)"
   ]
  }
 ],
 "metadata": {
  "kernelspec": {
   "display_name": ".venv",
   "language": "python",
   "name": "python3"
  },
  "language_info": {
   "codemirror_mode": {
    "name": "ipython",
    "version": 3
   },
   "file_extension": ".py",
   "mimetype": "text/x-python",
   "name": "python",
   "nbconvert_exporter": "python",
   "pygments_lexer": "ipython3",
   "version": "3.12.5"
  }
 },
 "nbformat": 4,
 "nbformat_minor": 5
}
