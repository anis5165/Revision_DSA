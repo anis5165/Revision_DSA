{
 "cells": [
  {
   "cell_type": "code",
   "execution_count": 533,
   "id": "c0a83991",
   "metadata": {},
   "outputs": [],
   "source": [
    "import ctypes  #ctypes is a foreign function library for python. It provides C compatible data types.\n",
    "\n",
    "class MeraList:\n",
    "\n",
    "    def __init__(self):\n",
    "        self.size = 1\n",
    "        self.n = 0\n",
    "\n",
    "        #create a c type array with size = self.size\n",
    "        self.A = self.__make_array(self.size)\n",
    "\n",
    "    def __len__(self):\n",
    "        return self.n\n",
    "    \n",
    "    def __str__(self):\n",
    "        result = ''\n",
    "        for i in range(self.n):\n",
    "            result = result + str(self.A[i]) + ','\n",
    "        return '[' + result[:-1] + ']'\n",
    "    \n",
    "    def __getitem__(self, index):\n",
    "        if 0 <= index <= self.n:\n",
    "            return self.A[index]\n",
    "        else:\n",
    "            return 'IndexError - Index out of Range'\n",
    "        \n",
    "    def pop(self):\n",
    "        if self.n == 0:\n",
    "            return \"Empty List\"\n",
    "        print(self.A[self.n - 1])\n",
    "        self.n = self.n - 1\n",
    "\n",
    "    def clear(self):\n",
    "        self.n = 0\n",
    "        self.size = 1\n",
    "    \n",
    "    def find(self,item):\n",
    "        for i in range(self.n):\n",
    "            if self.A[i] == item:\n",
    "                return i\n",
    "        return \"valueError - Not in List\"\n",
    "\n",
    "    def append(self,item):\n",
    "        if self.n == self.size:\n",
    "            #resize\n",
    "            self.__resize(self.size*2)\n",
    "        #append\n",
    "        self.A[self.n] = item\n",
    "        self.n = self.n + 1\n",
    "\n",
    "    def __delitem__(self,index):\n",
    "        if 0 <= index <= self.n:\n",
    "            for i in range(index,self.n-1):\n",
    "                self.A[i] = self.A[i+1]\n",
    "            self.n = self.n - 1\n",
    "\n",
    "    def remove(self,item):\n",
    "        pos = self.find(item)\n",
    "        if type(pos) == int:\n",
    "            self.__delitem__(pos)\n",
    "        else:\n",
    "            return pos\n",
    "\n",
    "    def insert(self,index,item):\n",
    "        if self.size == self.n:\n",
    "            self.__resize(self.size*2)\n",
    "        for i in range(self.n,index,-1):\n",
    "            self.A[i] = self.A[i-1]\n",
    "        self.A[index] = item\n",
    "        self.n = self.n + 1\n",
    "    \n",
    "    def __resize(self,new_capacity):\n",
    "        #create a new array with new capacity\n",
    "        B = self.__make_array(new_capacity)\n",
    "        self.size = new_capacity\n",
    "        #copy the content of A to B\n",
    "        for i in range(self.n):\n",
    "            B[i] = self.A[i]\n",
    "        #reassign A\n",
    "        self.A = B\n",
    "\n",
    "    def maximum(self):\n",
    "        if self.n == 0:\n",
    "            return 'Empty List'\n",
    "        max = -1\n",
    "        for i in range(self.n):\n",
    "            if max < self.A[i]:\n",
    "                max = self.A[i]\n",
    "        return max\n",
    "    \n",
    "    def minimum(self):\n",
    "        if self.n == 0:\n",
    "            return 'Empty List'\n",
    "        min = self.A[0]\n",
    "        for i in range(self.n):\n",
    "            if min > self.A[i]:\n",
    "                min = self.A[i]\n",
    "        return min\n",
    "    \n",
    "    def sort_array(self):\n",
    "        if self.n == 0:\n",
    "            return \"Empty List\"\n",
    "        for i in range(self.n-1):\n",
    "            for j in range(i+1, self.n):\n",
    "                if self.A[i] > self.A[j]:\n",
    "                    self.A[i], self.A[j] = self.A[j], self.A[i]\n",
    "\n",
    "\n",
    "    def sum_all(self):\n",
    "        sum = 0\n",
    "        for i in range(self.n):\n",
    "            sum = sum + self.A[i]\n",
    "        return sum\n",
    "    \n",
    "    def find_back(self,index):\n",
    "        idx = abs(index)\n",
    "        if self.n - idx >= 0:\n",
    "            return self.A[self.n-idx]\n",
    "        else:\n",
    "            return 'IndexError - Index out of Range'\n",
    "\n",
    "\n",
    "    def __make_array(self, capacity):\n",
    "        # creates a C types array(static, referential) with size capacity\n",
    "        return (capacity*ctypes.py_object)()\n"
   ]
  },
  {
   "cell_type": "code",
   "execution_count": 534,
   "id": "520eaddd",
   "metadata": {},
   "outputs": [
    {
     "data": {
      "text/plain": [
       "0"
      ]
     },
     "execution_count": 534,
     "metadata": {},
     "output_type": "execute_result"
    }
   ],
   "source": [
    "L = MeraList()\n",
    "len(L)"
   ]
  },
  {
   "cell_type": "code",
   "execution_count": 535,
   "id": "f10d0e69",
   "metadata": {},
   "outputs": [],
   "source": [
    "L.append(150)\n",
    "L.append(15)\n",
    "L.append(5)\n",
    "L.append(180)"
   ]
  },
  {
   "cell_type": "code",
   "execution_count": 536,
   "id": "814535f8",
   "metadata": {},
   "outputs": [
    {
     "data": {
      "text/plain": [
       "4"
      ]
     },
     "execution_count": 536,
     "metadata": {},
     "output_type": "execute_result"
    }
   ],
   "source": [
    "len(L)"
   ]
  },
  {
   "cell_type": "code",
   "execution_count": 537,
   "id": "30c22653",
   "metadata": {},
   "outputs": [
    {
     "name": "stdout",
     "output_type": "stream",
     "text": [
      "[150,15,5,180]\n"
     ]
    }
   ],
   "source": [
    "print(L)"
   ]
  },
  {
   "cell_type": "code",
   "execution_count": 538,
   "id": "4132ff50",
   "metadata": {},
   "outputs": [
    {
     "data": {
      "text/plain": [
       "150"
      ]
     },
     "execution_count": 538,
     "metadata": {},
     "output_type": "execute_result"
    }
   ],
   "source": [
    "L[0]"
   ]
  },
  {
   "cell_type": "code",
   "execution_count": 539,
   "id": "22821f55",
   "metadata": {},
   "outputs": [],
   "source": [
    "# L.pop()"
   ]
  },
  {
   "cell_type": "code",
   "execution_count": 540,
   "id": "fa57148e",
   "metadata": {},
   "outputs": [],
   "source": [
    "# L.clear()"
   ]
  },
  {
   "cell_type": "code",
   "execution_count": 541,
   "id": "8d4808b8",
   "metadata": {},
   "outputs": [
    {
     "data": {
      "text/plain": [
       "0"
      ]
     },
     "execution_count": 541,
     "metadata": {},
     "output_type": "execute_result"
    }
   ],
   "source": [
    "L.find(150)"
   ]
  },
  {
   "cell_type": "code",
   "execution_count": 542,
   "id": "b55647fe",
   "metadata": {},
   "outputs": [],
   "source": [
    "# L.insert(0,786)\n",
    "# L.insert(3,\"anish\")\n"
   ]
  },
  {
   "cell_type": "code",
   "execution_count": 543,
   "id": "26197f02",
   "metadata": {},
   "outputs": [],
   "source": [
    "# del L[200]\n",
    "# print(L)"
   ]
  },
  {
   "cell_type": "code",
   "execution_count": 544,
   "id": "7e3731a7",
   "metadata": {},
   "outputs": [],
   "source": [
    "# L.remove(3.4)\n",
    "# print(L)"
   ]
  },
  {
   "cell_type": "code",
   "execution_count": 545,
   "id": "d8952c04",
   "metadata": {},
   "outputs": [
    {
     "data": {
      "text/plain": [
       "180"
      ]
     },
     "execution_count": 545,
     "metadata": {},
     "output_type": "execute_result"
    }
   ],
   "source": [
    "L.maximum()"
   ]
  },
  {
   "cell_type": "code",
   "execution_count": 546,
   "id": "9545d073",
   "metadata": {},
   "outputs": [
    {
     "data": {
      "text/plain": [
       "5"
      ]
     },
     "execution_count": 546,
     "metadata": {},
     "output_type": "execute_result"
    }
   ],
   "source": [
    "L.minimum()"
   ]
  },
  {
   "cell_type": "code",
   "execution_count": 547,
   "id": "be500709",
   "metadata": {},
   "outputs": [
    {
     "name": "stdout",
     "output_type": "stream",
     "text": [
      "[150,15,5,180]\n"
     ]
    }
   ],
   "source": [
    "# L.sort_array()\n",
    "print(L)"
   ]
  },
  {
   "cell_type": "code",
   "execution_count": 548,
   "id": "4557077b",
   "metadata": {},
   "outputs": [
    {
     "data": {
      "text/plain": [
       "350"
      ]
     },
     "execution_count": 548,
     "metadata": {},
     "output_type": "execute_result"
    }
   ],
   "source": [
    "L.sum_all()"
   ]
  },
  {
   "cell_type": "code",
   "execution_count": 549,
   "id": "6297a703",
   "metadata": {},
   "outputs": [
    {
     "data": {
      "text/plain": [
       "150"
      ]
     },
     "execution_count": 549,
     "metadata": {},
     "output_type": "execute_result"
    }
   ],
   "source": [
    "L.find_back(-4)"
   ]
  }
 ],
 "metadata": {
  "kernelspec": {
   "display_name": ".venv",
   "language": "python",
   "name": "python3"
  },
  "language_info": {
   "codemirror_mode": {
    "name": "ipython",
    "version": 3
   },
   "file_extension": ".py",
   "mimetype": "text/x-python",
   "name": "python",
   "nbconvert_exporter": "python",
   "pygments_lexer": "ipython3",
   "version": "3.12.5"
  }
 },
 "nbformat": 4,
 "nbformat_minor": 5
}
