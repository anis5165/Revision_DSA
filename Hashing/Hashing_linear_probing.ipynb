{
 "cells": [
  {
   "cell_type": "code",
   "execution_count": 81,
   "id": "dab7207e",
   "metadata": {},
   "outputs": [],
   "source": [
    "class Dictionary:\n",
    "\n",
    "    def __init__(self,size):\n",
    "        self.size = size\n",
    "        self.slots = [None] * self.size\n",
    "        self.data = [None] * self.size\n",
    "\n",
    "    def put(self,key,value):\n",
    "        hash_value = self.hash_function(key)\n",
    "\n",
    "        if self.slots[hash_value] == None:\n",
    "            self.slots[hash_value] = key\n",
    "            self.data[hash_value] = value\n",
    "        else:\n",
    "            if self.slots[hash_value] == key:\n",
    "                self.data[hash_value] = value\n",
    "            else:\n",
    "                new_hash_value = self.rehash(hash_value)\n",
    "                \n",
    "                while self.slots[new_hash_value] != None and self.slots[new_hash_value] != key:\n",
    "                    new_hash_value = self.rehash(new_hash_value)\n",
    "\n",
    "                if self.slots[new_hash_value] == None:\n",
    "                    self.slots[new_hash_value] = key\n",
    "                    self.data[new_hash_value] = value\n",
    "                else:\n",
    "                    self.data[new_hash_value] = value\n",
    "\n",
    "    def get(self,key):\n",
    "        start_position = self.hash_function(key)\n",
    "        current_position = start_position\n",
    "\n",
    "        while self.slots[current_position] != None:\n",
    "            if  self.slots[current_position] == key:\n",
    "                return self.data[current_position]\n",
    "            \n",
    "            current_position = self.rehash(current_position)\n",
    "\n",
    "            if current_position == start_position:\n",
    "                return \"Not Found\"\n",
    "        return \"None Not Found\"\n",
    "    \n",
    "    def __str__(self):\n",
    "        for i in range(len(self.slots)):\n",
    "            if self.slots[i] != None:\n",
    "                print(self.slots[i],\":\",self.data[i],end=\"  \")\n",
    "        \n",
    "        return \"\"\n",
    "\n",
    "    def __getitem__(self,key):\n",
    "        return self.get(key)\n",
    "    \n",
    "    def __setitem__(self,key,value):\n",
    "        self.put(key,value)\n",
    "\n",
    "    \n",
    "    def rehash(self,old_hash):\n",
    "        return (old_hash + 1) % self.size\n",
    "\n",
    "    def hash_function(self,key):\n",
    "        return abs(hash(key)) % self.size"
   ]
  },
  {
   "cell_type": "code",
   "execution_count": 82,
   "id": "bd8c93f6",
   "metadata": {},
   "outputs": [],
   "source": [
    "d1 = Dictionary(3)"
   ]
  },
  {
   "cell_type": "code",
   "execution_count": 83,
   "id": "a746f5d1",
   "metadata": {},
   "outputs": [
    {
     "name": "stdout",
     "output_type": "stream",
     "text": [
      "[None, None, None]\n",
      "[None, None, None]\n"
     ]
    }
   ],
   "source": [
    "print(d1.slots)\n",
    "print(d1.data)"
   ]
  },
  {
   "cell_type": "code",
   "execution_count": 84,
   "id": "e44153ee",
   "metadata": {},
   "outputs": [],
   "source": [
    "d1.put(\"anish\",25)\n",
    "d1.put(\"priyanshu\",416)\n",
    "# d1.put(\"vikas\",2000)"
   ]
  },
  {
   "cell_type": "code",
   "execution_count": 85,
   "id": "6d91529e",
   "metadata": {},
   "outputs": [],
   "source": [
    "# d1['java'] = 2500"
   ]
  },
  {
   "cell_type": "code",
   "execution_count": 86,
   "id": "f593c48b",
   "metadata": {},
   "outputs": [],
   "source": [
    "#check update\n",
    "# d1['java'] = 200"
   ]
  },
  {
   "cell_type": "code",
   "execution_count": 87,
   "id": "bfa4bfd4",
   "metadata": {},
   "outputs": [
    {
     "data": {
      "text/plain": [
       "'None Not Found'"
      ]
     },
     "execution_count": 87,
     "metadata": {},
     "output_type": "execute_result"
    }
   ],
   "source": [
    "d1.get(\"vikas\")"
   ]
  },
  {
   "cell_type": "code",
   "execution_count": 88,
   "id": "39d1cd08",
   "metadata": {},
   "outputs": [
    {
     "data": {
      "text/plain": [
       "'None Not Found'"
      ]
     },
     "execution_count": 88,
     "metadata": {},
     "output_type": "execute_result"
    }
   ],
   "source": [
    "d1[\"anishj\"]"
   ]
  },
  {
   "cell_type": "code",
   "execution_count": 89,
   "id": "d4c2c0bb",
   "metadata": {},
   "outputs": [
    {
     "name": "stdout",
     "output_type": "stream",
     "text": [
      "priyanshu : 416  anish : 25  \n"
     ]
    }
   ],
   "source": [
    "print(d1)"
   ]
  }
 ],
 "metadata": {
  "kernelspec": {
   "display_name": ".venv",
   "language": "python",
   "name": "python3"
  },
  "language_info": {
   "codemirror_mode": {
    "name": "ipython",
    "version": 3
   },
   "file_extension": ".py",
   "mimetype": "text/x-python",
   "name": "python",
   "nbconvert_exporter": "python",
   "pygments_lexer": "ipython3",
   "version": "3.12.5"
  }
 },
 "nbformat": 4,
 "nbformat_minor": 5
}
