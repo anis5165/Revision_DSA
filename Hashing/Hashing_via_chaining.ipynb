{
 "cells": [
  {
   "cell_type": "code",
   "execution_count": 69,
   "id": "92393af0",
   "metadata": {},
   "outputs": [],
   "source": [
    "class Node:\n",
    "    def __init__(self,key,data):\n",
    "        self.key = key\n",
    "        self.data = data\n",
    "        self.next = None"
   ]
  },
  {
   "cell_type": "code",
   "execution_count": 70,
   "id": "0cb0d664",
   "metadata": {},
   "outputs": [],
   "source": [
    "class LL:\n",
    "    def __init__(self):\n",
    "        self.head = None\n",
    "\n",
    "    def add(self,key,value):\n",
    "        new_node = Node(key,value)\n",
    "\n",
    "        if self.head == None:\n",
    "            self.head = new_node\n",
    "        else:\n",
    "            temp = self.head\n",
    "\n",
    "            while temp.next != None:\n",
    "                temp = temp.next\n",
    "            temp.next = new_node\n",
    "\n",
    "    def delete_head(self):\n",
    "        self.head = self.head.next\n",
    "\n",
    "    def remove(self,key):\n",
    "        if self.head.key == key:\n",
    "            self.delete_head()\n",
    "            return\n",
    "        if self.head == None:\n",
    "            return \"Empty\"\n",
    "        else:\n",
    "            temp = self.head\n",
    "            while temp.next != None:\n",
    "                if temp.next.key == key:\n",
    "                    break\n",
    "                temp = temp.next\n",
    "            \n",
    "            if temp.next == None:\n",
    "                return \"Not Found\"\n",
    "            else:\n",
    "                temp.next = temp.next.next\n",
    "\n",
    "    def traverse(self):\n",
    "        temp = self.head\n",
    "        while temp != None:\n",
    "            print(f\"{temp.key} --> {temp.data}  \")\n",
    "            temp = temp.next\n",
    "\n",
    "    def search(self,key):\n",
    "        temp = self.head\n",
    "        pos = 0\n",
    "\n",
    "        while temp != None:\n",
    "            if temp.key == key:\n",
    "                return pos\n",
    "            temp = temp.next\n",
    "            pos += 1\n",
    "        return -1\n",
    "    \n",
    "    def get_node_at_index(self,index):\n",
    "        temp = self.head\n",
    "        counter = 0\n",
    "        while temp != None:\n",
    "            if counter == index:\n",
    "                return temp\n",
    "            counter += 1\n",
    "            temp = temp.next\n",
    "    \n"
   ]
  },
  {
   "cell_type": "code",
   "execution_count": 71,
   "id": "c8541ece",
   "metadata": {},
   "outputs": [],
   "source": [
    "class Dictionary:\n",
    "    def __init__(self,capacity):\n",
    "        self.capacity = capacity\n",
    "        self.size = 0\n",
    "        # create array of LL\n",
    "        self.buckets = self.make_array(capacity)\n",
    "\n",
    "    \n",
    "    def make_array(self,capacity):\n",
    "        l = []\n",
    "        for i in range(capacity):\n",
    "            l.append(LL())\n",
    "        return l\n",
    "    \n",
    "    def put(self,key,value):\n",
    "        bucket_index = self.hash_function(key)\n",
    "\n",
    "        node_index = self.get_node_index(bucket_index,key)\n",
    "        if node_index == -1:\n",
    "            self.buckets[bucket_index].add(key,value)\n",
    "            self.size = self.size + 1\n",
    "        else:\n",
    "            node = self.buckets[bucket_index].get_node_at_index(node_index)\n",
    "            node.value = value\n",
    "\n",
    "    def get_node_index(self,bucket_index, key):\n",
    "        node_index = self.buckets[bucket_index].search(key)\n",
    "        return node_index\n",
    "    \n",
    "    def hash_function(self,key):\n",
    "        return abs(hash(key)) % self.capacity"
   ]
  },
  {
   "cell_type": "code",
   "execution_count": 72,
   "id": "fe747238",
   "metadata": {},
   "outputs": [],
   "source": [
    "d1 = Dictionary(4)"
   ]
  },
  {
   "cell_type": "code",
   "execution_count": 73,
   "id": "d8f6c0fc",
   "metadata": {},
   "outputs": [],
   "source": [
    "d1.put(\"java\",25)"
   ]
  },
  {
   "cell_type": "code",
   "execution_count": 74,
   "id": "090d98d9",
   "metadata": {},
   "outputs": [],
   "source": [
    "d1.put(\"ruby\",786)"
   ]
  },
  {
   "cell_type": "code",
   "execution_count": 78,
   "id": "4ff1c955",
   "metadata": {},
   "outputs": [
    {
     "name": "stdout",
     "output_type": "stream",
     "text": [
      "ruby --> 786  \n"
     ]
    }
   ],
   "source": [
    "d1.buckets[2].traverse()"
   ]
  }
 ],
 "metadata": {
  "kernelspec": {
   "display_name": ".venv",
   "language": "python",
   "name": "python3"
  },
  "language_info": {
   "codemirror_mode": {
    "name": "ipython",
    "version": 3
   },
   "file_extension": ".py",
   "mimetype": "text/x-python",
   "name": "python",
   "nbconvert_exporter": "python",
   "pygments_lexer": "ipython3",
   "version": "3.12.5"
  }
 },
 "nbformat": 4,
 "nbformat_minor": 5
}
