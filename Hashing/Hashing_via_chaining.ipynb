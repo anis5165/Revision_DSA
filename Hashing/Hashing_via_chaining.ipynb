{
 "cells": [
  {
   "cell_type": "code",
   "execution_count": 287,
   "id": "92393af0",
   "metadata": {},
   "outputs": [],
   "source": [
    "class Node:\n",
    "    def __init__(self,key,data):\n",
    "        self.key = key\n",
    "        self.data = data\n",
    "        self.next = None"
   ]
  },
  {
   "cell_type": "code",
   "execution_count": 288,
   "id": "0cb0d664",
   "metadata": {},
   "outputs": [],
   "source": [
    "class LL:\n",
    "    def __init__(self):\n",
    "        self.head = None\n",
    "\n",
    "    def add(self,key,value):\n",
    "        new_node = Node(key,value)\n",
    "\n",
    "        if self.head == None:\n",
    "            self.head = new_node\n",
    "        else:\n",
    "            temp = self.head\n",
    "\n",
    "            while temp.next != None:\n",
    "                temp = temp.next\n",
    "            temp.next = new_node\n",
    "\n",
    "    def delete_head(self):\n",
    "        self.head = self.head.next\n",
    "\n",
    "    def remove(self,key):\n",
    "        if self.head.key == key:\n",
    "            self.delete_head()\n",
    "            return\n",
    "        if self.head == None:\n",
    "            return \"Empty\"\n",
    "        else:\n",
    "            temp = self.head\n",
    "            while temp.next != None:\n",
    "                if temp.next.key == key:\n",
    "                    break\n",
    "                temp = temp.next\n",
    "            \n",
    "            if temp.next == None:\n",
    "                return \"Not Found\"\n",
    "            else:\n",
    "                temp.next = temp.next.next\n",
    "\n",
    "    def traverse(self):\n",
    "        temp = self.head\n",
    "        while temp != None:\n",
    "            print(f\"{temp.key} --> {temp.data}  \")\n",
    "            temp = temp.next\n",
    "\n",
    "    def search(self,key):\n",
    "        temp = self.head\n",
    "        pos = 0\n",
    "\n",
    "        while temp != None:\n",
    "            if temp.key == key:\n",
    "                return pos\n",
    "            temp = temp.next\n",
    "            pos += 1\n",
    "        return -1\n",
    "    \n",
    "    def size(self):\n",
    "        counter = 0\n",
    "        temp = self.head\n",
    "        while temp != None:\n",
    "            counter += 1\n",
    "            temp = temp.next\n",
    "        return counter\n",
    "    \n",
    "    def get_node_at_index(self,index):\n",
    "        temp = self.head\n",
    "        counter = 0\n",
    "        while temp != None:\n",
    "            if counter == index:\n",
    "                return temp\n",
    "            counter += 1\n",
    "            temp = temp.next\n",
    "    \n"
   ]
  },
  {
   "cell_type": "code",
   "execution_count": 289,
   "id": "c8541ece",
   "metadata": {},
   "outputs": [],
   "source": [
    "class Dictionary:\n",
    "    def __init__(self,capacity):\n",
    "        self.capacity = capacity\n",
    "        self.size = 0\n",
    "        # create array of LL\n",
    "        self.buckets = self.make_array(capacity)\n",
    "\n",
    "    \n",
    "    def make_array(self,capacity):\n",
    "        l = []\n",
    "        for i in range(capacity):\n",
    "            l.append(LL())\n",
    "        return l\n",
    "    \n",
    "    def put(self,key,value):\n",
    "        bucket_index = self.hash_function(key)\n",
    "\n",
    "        node_index = self.get_node_index(bucket_index,key)\n",
    "        if node_index == -1:\n",
    "            self.buckets[bucket_index].add(key,value)\n",
    "            self.size = self.size + 1\n",
    "\n",
    "            load_factor = self.size/self.capacity\n",
    "            print(load_factor)\n",
    "\n",
    "            if (self.size/self.capacity >= 2):\n",
    "                self.rehash()\n",
    "        else:\n",
    "            node = self.buckets[bucket_index].get_node_at_index(node_index)\n",
    "            node.value = value\n",
    "\n",
    "    def rehash(self):\n",
    "        self.capacity = self.capacity * 2\n",
    "        old_buckets = self.buckets\n",
    "        self.size = 0\n",
    "\n",
    "        self.buckets = self.make_array(self.capacity)\n",
    "\n",
    "        for i in old_buckets:\n",
    "            for j in range(i.size()):\n",
    "                node = i.get_node_at_index(j)\n",
    "                key_item = node.key\n",
    "                value_item = node.data\n",
    "                self.put(key_item,value_item)\n",
    "\n",
    "\n",
    "    def __getitem__(self,key):\n",
    "        return self.get(key)\n",
    "\n",
    "    def get(self,key):\n",
    "        bucket_index = self.hash_function(key)\n",
    "\n",
    "        res = self.buckets[bucket_index].search(key)\n",
    "\n",
    "        if res == -1:\n",
    "            return \"Not Present\"\n",
    "        else:\n",
    "            node = self.buckets[bucket_index].get_node_at_index(res)\n",
    "            return node.data\n",
    "\n",
    "    def __delitem__(self,key):\n",
    "        bucket_index = self.hash_function(key)\n",
    "\n",
    "        self.buckets[bucket_index].remove(key)\n",
    "        self.size -= 1\n",
    "\n",
    "    def __str__(self):\n",
    "        for i in self.buckets:\n",
    "            i.traverse()\n",
    "\n",
    "        return \"\"\n",
    "\n",
    "    def __len__(self):\n",
    "        return self.size\n",
    "\n",
    "    def get_node_index(self,bucket_index, key):\n",
    "        node_index = self.buckets[bucket_index].search(key)\n",
    "        return node_index\n",
    "    \n",
    "    def hash_function(self,key):\n",
    "        return abs(hash(key)) % self.capacity"
   ]
  },
  {
   "cell_type": "code",
   "execution_count": 290,
   "id": "fe747238",
   "metadata": {},
   "outputs": [],
   "source": [
    "d1 = Dictionary(2)"
   ]
  },
  {
   "cell_type": "code",
   "execution_count": 303,
   "id": "d8f6c0fc",
   "metadata": {},
   "outputs": [
    {
     "name": "stdout",
     "output_type": "stream",
     "text": [
      "1.125\n"
     ]
    }
   ],
   "source": [
    "d1.put(\"next\",309)"
   ]
  },
  {
   "cell_type": "code",
   "execution_count": 304,
   "id": "090d98d9",
   "metadata": {},
   "outputs": [
    {
     "data": {
      "text/plain": [
       "309"
      ]
     },
     "execution_count": 304,
     "metadata": {},
     "output_type": "execute_result"
    }
   ],
   "source": [
    "d1[\"cpp\"]"
   ]
  },
  {
   "cell_type": "code",
   "execution_count": 293,
   "id": "4ff1c955",
   "metadata": {},
   "outputs": [
    {
     "name": "stdout",
     "output_type": "stream",
     "text": [
      "c --> 309  \n"
     ]
    }
   ],
   "source": [
    "d1.buckets[1].traverse()"
   ]
  },
  {
   "cell_type": "code",
   "execution_count": 309,
   "id": "ad1b153f",
   "metadata": {},
   "outputs": [],
   "source": [
    "del d1[\"cpp\"]"
   ]
  },
  {
   "cell_type": "code",
   "execution_count": 310,
   "id": "637c7cfa",
   "metadata": {},
   "outputs": [
    {
     "name": "stdout",
     "output_type": "stream",
     "text": [
      "python --> 309  \n",
      "express --> 309  \n",
      "scilab --> 309  \n",
      "matlab --> 309  \n",
      "java --> 309  \n",
      "javascript --> 309  \n",
      "c --> 309  \n",
      "next --> 309  \n",
      "\n"
     ]
    }
   ],
   "source": [
    "print(d1)"
   ]
  },
  {
   "cell_type": "code",
   "execution_count": 311,
   "id": "ac783fef",
   "metadata": {},
   "outputs": [
    {
     "data": {
      "text/plain": [
       "8"
      ]
     },
     "execution_count": 311,
     "metadata": {},
     "output_type": "execute_result"
    }
   ],
   "source": [
    "len(d1)"
   ]
  }
 ],
 "metadata": {
  "kernelspec": {
   "display_name": ".venv",
   "language": "python",
   "name": "python3"
  },
  "language_info": {
   "codemirror_mode": {
    "name": "ipython",
    "version": 3
   },
   "file_extension": ".py",
   "mimetype": "text/x-python",
   "name": "python",
   "nbconvert_exporter": "python",
   "pygments_lexer": "ipython3",
   "version": "3.12.5"
  }
 },
 "nbformat": 4,
 "nbformat_minor": 5
}
